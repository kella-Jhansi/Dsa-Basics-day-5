{
 "cells": [
  {
   "cell_type": "code",
   "execution_count": 13,
   "id": "ed8d7a46-378b-4736-bbc5-f72244c79cbf",
   "metadata": {},
   "outputs": [
    {
     "name": "stdin",
     "output_type": "stream",
     "text": [
      "enter a single word: prasanna\n"
     ]
    },
    {
     "name": "stdout",
     "output_type": "stream",
     "text": [
      "original string: prasanna\n",
      "sorted string:  aaannprs\n"
     ]
    }
   ],
   "source": [
    "#counting sort using string\n",
    "def csortString(s):\n",
    "    count=[0]*26\n",
    "    for char in s:\n",
    "        count[ord(char)- ord('a')]+=1\n",
    "    sorted_str= ' '\n",
    "    for i in range(26):\n",
    "        sorted_str+= chr(i+ord('a')) * count[i]\n",
    "    return sorted_str\n",
    "name=input(\"enter a single word:\")\n",
    "sorted_name=csortString(name)\n",
    "print(\"original string:\",name)\n",
    "print(\"sorted string:\",sorted_name)"
   ]
  },
  {
   "cell_type": "code",
   "execution_count": 19,
   "id": "2a38ecb0-7273-402b-b811-f3877f1e99b9",
   "metadata": {},
   "outputs": [
    {
     "name": "stdin",
     "output_type": "stream",
     "text": [
      "enter a single word: AMMULU\n"
     ]
    },
    {
     "name": "stdout",
     "output_type": "stream",
     "text": [
      "original string: AMMULU\n",
      "sorted string:  ALMMUU\n"
     ]
    }
   ],
   "source": [
    "def csortString(s):\n",
    "    count=[0]*26\n",
    "    for char in s:\n",
    "        count[ord(char)- ord('A')]+=1\n",
    "    sorted_str= ' '\n",
    "    for i in range(26):\n",
    "        sorted_str+= chr(i+ord('A')) * count[i]\n",
    "    return sorted_str\n",
    "name=input(\"enter a single word:\")\n",
    "sorted_name=csortString(name)\n",
    "print(\"original string:\",name)\n",
    "print(\"sorted string:\",sorted_name)"
   ]
  },
  {
   "cell_type": "code",
   "execution_count": 27,
   "id": "5e4538e8-259f-4893-bc4c-d91d56f902a3",
   "metadata": {},
   "outputs": [
    {
     "name": "stdout",
     "output_type": "stream",
     "text": [
      "before sort [170, 45, 75, 90, 802, 24, 2, 66]\n",
      "after sort [0, 2, 24, 45, 66, 75, 90, 802]\n"
     ]
    }
   ],
   "source": [
    "#Redix.sort\n",
    "''''\n",
    "i=0  i=1  i=2   i=3  i=4  i=5  i=6  i=7  i=8  i=9\n",
    "432  008  530   090  088  231  011  045  677  199\n",
    "                                                                    \n",
    "  0     1    2     3    4        5    6      7       8     9         index\n",
    "...............................................................\n",
    "|1+1 | 1+1 |  1 |   0 |  0   |  1   |   0 |   1  |  1+1  |  1 | :LSB bit of above no's\n",
    "...............................................................\n",
    "| 2  |  4  | 5  |   5 | 5    | 6    |  6  |   7  |   9   |  10|:add of LSB bits values\n",
    "...............................................................\n",
    "\n",
    "\n",
    "1.find the maximum number to determine number of digits\n",
    "2.section 10^0, for digit position \n",
    "3.increment digit position ,with respect to pass \n",
    "4.maxnum///exp>0\n",
    "perform count sort based on  current digit(num//exp)%10\n",
    "multiply exp by 10\n",
    "'''\n",
    "\n",
    "#program:\n",
    "def count_sort(arr,exp):\n",
    "    n=len(arr)\n",
    "    output=[0]*n\n",
    "    count=[0]*10 # 0->9 empty buckets for count of digits\n",
    "    for i in range(n):\n",
    "        index=(arr[i]//exp)%10\n",
    "        count[index]+=1\n",
    "    for i in range(1,10):\n",
    "        count[i]+=count[i-1]\n",
    "    i=n-1\n",
    "    while i>0:\n",
    "        index=(arr[i]//exp)%10\n",
    "        output[count[index]-1]=arr[i]\n",
    "        count[index]-=1\n",
    "        i-=1\n",
    "    for i in range(n):\n",
    "        arr[i]=output[i]\n",
    "def radix_sort(arr):\n",
    "    max_num=max(arr)\n",
    "    exp=1\n",
    "    while max_num//exp>0:\n",
    "        count_sort(arr,exp)\n",
    "        exp*=10\n",
    "\n",
    "\n",
    "arr=[170,45,75,90,802,24,2,66]\n",
    "print(\"before sort\",arr)\n",
    "radix_sort(arr)\n",
    "print(\"after sort\",arr)\n",
    "\n",
    "\n",
    "\n",
    "\n",
    "\n",
    "\n",
    "\n",
    "\n",
    "\n"
   ]
  },
  {
   "cell_type": "code",
   "execution_count": null,
   "id": "61cbea8f-9d7c-4212-8040-51b4041c41c6",
   "metadata": {},
   "outputs": [],
   "source": []
  }
 ],
 "metadata": {
  "kernelspec": {
   "display_name": "Python 3 (ipykernel)",
   "language": "python",
   "name": "python3"
  },
  "language_info": {
   "codemirror_mode": {
    "name": "ipython",
    "version": 3
   },
   "file_extension": ".py",
   "mimetype": "text/x-python",
   "name": "python",
   "nbconvert_exporter": "python",
   "pygments_lexer": "ipython3",
   "version": "3.12.7"
  }
 },
 "nbformat": 4,
 "nbformat_minor": 5
}
